{
 "cells": [
  {
   "cell_type": "code",
   "execution_count": 63,
   "metadata": {},
   "outputs": [],
   "source": [
    "# Import packages\n",
    "import pandas as pd\n",
    "import numpy as np\n",
    "import matplotlib.pyplot as plt\n",
    "import math"
   ]
  },
  {
   "cell_type": "code",
   "execution_count": 64,
   "metadata": {},
   "outputs": [],
   "source": [
    "# Import the data\n",
    "df = pd.read_csv(r'C:\\Users\\Lindsay\\Github\\MEA_data\\Before Hypoxia Plate 4(001)(000)_spike_counts.csv')"
   ]
  },
  {
   "cell_type": "code",
   "execution_count": 65,
   "metadata": {},
   "outputs": [
    {
     "data": {
      "text/html": [
       "<div>\n",
       "<style scoped>\n",
       "    .dataframe tbody tr th:only-of-type {\n",
       "        vertical-align: middle;\n",
       "    }\n",
       "\n",
       "    .dataframe tbody tr th {\n",
       "        vertical-align: top;\n",
       "    }\n",
       "\n",
       "    .dataframe thead th {\n",
       "        text-align: right;\n",
       "    }\n",
       "</style>\n",
       "<table border=\"1\" class=\"dataframe\">\n",
       "  <thead>\n",
       "    <tr style=\"text-align: right;\">\n",
       "      <th></th>\n",
       "      <th>Interval Start (S)</th>\n",
       "      <th>Interval End (S)</th>\n",
       "      <th>A1</th>\n",
       "      <th>A1_11</th>\n",
       "      <th>A1_12</th>\n",
       "      <th>A1_13</th>\n",
       "      <th>A1_14</th>\n",
       "      <th>A1_15</th>\n",
       "      <th>A1_16</th>\n",
       "      <th>A1_17</th>\n",
       "      <th>...</th>\n",
       "      <th>A1_77</th>\n",
       "      <th>A1_78</th>\n",
       "      <th>A1_81</th>\n",
       "      <th>A1_82</th>\n",
       "      <th>A1_83</th>\n",
       "      <th>A1_84</th>\n",
       "      <th>A1_85</th>\n",
       "      <th>A1_86</th>\n",
       "      <th>A1_87</th>\n",
       "      <th>A1_88</th>\n",
       "    </tr>\n",
       "  </thead>\n",
       "  <tbody>\n",
       "    <tr>\n",
       "      <th>0</th>\n",
       "      <td>00000.000000</td>\n",
       "      <td>00001.000000</td>\n",
       "      <td>0</td>\n",
       "      <td>0.0</td>\n",
       "      <td>0.0</td>\n",
       "      <td>0.0</td>\n",
       "      <td>0.0</td>\n",
       "      <td>0.0</td>\n",
       "      <td>0.0</td>\n",
       "      <td>0.0</td>\n",
       "      <td>...</td>\n",
       "      <td>0.0</td>\n",
       "      <td>0.0</td>\n",
       "      <td>0.0</td>\n",
       "      <td>0.0</td>\n",
       "      <td>0.0</td>\n",
       "      <td>0.0</td>\n",
       "      <td>0.0</td>\n",
       "      <td>0.0</td>\n",
       "      <td>0.0</td>\n",
       "      <td>0.0</td>\n",
       "    </tr>\n",
       "    <tr>\n",
       "      <th>1</th>\n",
       "      <td>00001.000000</td>\n",
       "      <td>00002.000000</td>\n",
       "      <td>0</td>\n",
       "      <td>0.0</td>\n",
       "      <td>0.0</td>\n",
       "      <td>0.0</td>\n",
       "      <td>0.0</td>\n",
       "      <td>0.0</td>\n",
       "      <td>0.0</td>\n",
       "      <td>0.0</td>\n",
       "      <td>...</td>\n",
       "      <td>0.0</td>\n",
       "      <td>0.0</td>\n",
       "      <td>0.0</td>\n",
       "      <td>0.0</td>\n",
       "      <td>0.0</td>\n",
       "      <td>0.0</td>\n",
       "      <td>0.0</td>\n",
       "      <td>0.0</td>\n",
       "      <td>0.0</td>\n",
       "      <td>0.0</td>\n",
       "    </tr>\n",
       "    <tr>\n",
       "      <th>2</th>\n",
       "      <td>00002.000000</td>\n",
       "      <td>00003.000000</td>\n",
       "      <td>2</td>\n",
       "      <td>0.0</td>\n",
       "      <td>0.0</td>\n",
       "      <td>0.0</td>\n",
       "      <td>0.0</td>\n",
       "      <td>0.0</td>\n",
       "      <td>0.0</td>\n",
       "      <td>0.0</td>\n",
       "      <td>...</td>\n",
       "      <td>0.0</td>\n",
       "      <td>0.0</td>\n",
       "      <td>0.0</td>\n",
       "      <td>0.0</td>\n",
       "      <td>0.0</td>\n",
       "      <td>0.0</td>\n",
       "      <td>0.0</td>\n",
       "      <td>0.0</td>\n",
       "      <td>0.0</td>\n",
       "      <td>0.0</td>\n",
       "    </tr>\n",
       "    <tr>\n",
       "      <th>3</th>\n",
       "      <td>00003.000000</td>\n",
       "      <td>00004.000000</td>\n",
       "      <td>1</td>\n",
       "      <td>0.0</td>\n",
       "      <td>0.0</td>\n",
       "      <td>0.0</td>\n",
       "      <td>0.0</td>\n",
       "      <td>0.0</td>\n",
       "      <td>0.0</td>\n",
       "      <td>0.0</td>\n",
       "      <td>...</td>\n",
       "      <td>0.0</td>\n",
       "      <td>0.0</td>\n",
       "      <td>0.0</td>\n",
       "      <td>0.0</td>\n",
       "      <td>0.0</td>\n",
       "      <td>0.0</td>\n",
       "      <td>0.0</td>\n",
       "      <td>0.0</td>\n",
       "      <td>0.0</td>\n",
       "      <td>0.0</td>\n",
       "    </tr>\n",
       "    <tr>\n",
       "      <th>4</th>\n",
       "      <td>00004.000000</td>\n",
       "      <td>00005.000000</td>\n",
       "      <td>2</td>\n",
       "      <td>0.0</td>\n",
       "      <td>0.0</td>\n",
       "      <td>0.0</td>\n",
       "      <td>0.0</td>\n",
       "      <td>0.0</td>\n",
       "      <td>0.0</td>\n",
       "      <td>0.0</td>\n",
       "      <td>...</td>\n",
       "      <td>0.0</td>\n",
       "      <td>0.0</td>\n",
       "      <td>0.0</td>\n",
       "      <td>0.0</td>\n",
       "      <td>0.0</td>\n",
       "      <td>0.0</td>\n",
       "      <td>0.0</td>\n",
       "      <td>0.0</td>\n",
       "      <td>0.0</td>\n",
       "      <td>0.0</td>\n",
       "    </tr>\n",
       "  </tbody>\n",
       "</table>\n",
       "<p>5 rows × 67 columns</p>\n",
       "</div>"
      ],
      "text/plain": [
       "  Interval Start (S) Interval End (S) A1  A1_11  A1_12  A1_13  A1_14  A1_15  \\\n",
       "0       00000.000000     00001.000000  0    0.0    0.0    0.0    0.0    0.0   \n",
       "1       00001.000000     00002.000000  0    0.0    0.0    0.0    0.0    0.0   \n",
       "2       00002.000000     00003.000000  2    0.0    0.0    0.0    0.0    0.0   \n",
       "3       00003.000000     00004.000000  1    0.0    0.0    0.0    0.0    0.0   \n",
       "4       00004.000000     00005.000000  2    0.0    0.0    0.0    0.0    0.0   \n",
       "\n",
       "   A1_16  A1_17  ...  A1_77  A1_78  A1_81  A1_82  A1_83  A1_84  A1_85  A1_86  \\\n",
       "0    0.0    0.0  ...    0.0    0.0    0.0    0.0    0.0    0.0    0.0    0.0   \n",
       "1    0.0    0.0  ...    0.0    0.0    0.0    0.0    0.0    0.0    0.0    0.0   \n",
       "2    0.0    0.0  ...    0.0    0.0    0.0    0.0    0.0    0.0    0.0    0.0   \n",
       "3    0.0    0.0  ...    0.0    0.0    0.0    0.0    0.0    0.0    0.0    0.0   \n",
       "4    0.0    0.0  ...    0.0    0.0    0.0    0.0    0.0    0.0    0.0    0.0   \n",
       "\n",
       "   A1_87  A1_88  \n",
       "0    0.0    0.0  \n",
       "1    0.0    0.0  \n",
       "2    0.0    0.0  \n",
       "3    0.0    0.0  \n",
       "4    0.0    0.0  \n",
       "\n",
       "[5 rows x 67 columns]"
      ]
     },
     "execution_count": 65,
     "metadata": {},
     "output_type": "execute_result"
    }
   ],
   "source": [
    "# Deleting empty columns\n",
    "df = df.dropna(axis=1, how='all')\n",
    "\n",
    "# deleting the unnamed column\n",
    "df = df.drop('Unnamed: 2', axis=1)\n",
    "\n",
    "df.head()"
   ]
  },
  {
   "cell_type": "markdown",
   "metadata": {},
   "source": [
    "The highlighted text is a line of Python code that uses the `dropna` method from the pandas library to remove columns from a DataFrame (`df`) that contain only `NaN` (Not a Number) values.\n",
    "\n",
    "Explanation:\n",
    "`df.dropna(axis=1, how='all')`:\n",
    "`df`: The DataFrame from which columns are being removed.\n",
    "`dropna`: A method to remove missing values.\n",
    "`axis=1`: Specifies that the operation should be performed on columns (if `axis=0`, it would operate on rows).\n",
    "`how='all'`: Specifies that only columns where all values are NaN should be removed."
   ]
  },
  {
   "cell_type": "code",
   "execution_count": 66,
   "metadata": {},
   "outputs": [
    {
     "name": "stdout",
     "output_type": "stream",
     "text": [
      "Before converting the data types:\n",
      "Data type of 'Interval Start (S)': <class 'str'>\n",
      "Data type of 'Interval End (S)': <class 'str'>\n",
      "Data type of 'A1_11': <class 'numpy.float64'>\n"
     ]
    }
   ],
   "source": [
    "# Check the data types\n",
    "print('Before converting the data types:')\n",
    "print(\"Data type of 'Interval Start (S)':\", type(df['Interval Start (S)'][0]))\n",
    "print(\"Data type of 'Interval End (S)':\", type(df['Interval End (S)'][0]))\n",
    "print(\"Data type of 'A1_11':\", type(df['A1_11'][0]))\n",
    "\n",
    "# Python is seeing the intervals as strings instead of floats"
   ]
  },
  {
   "cell_type": "code",
   "execution_count": 67,
   "metadata": {},
   "outputs": [
    {
     "name": "stdout",
     "output_type": "stream",
     "text": [
      "Data type of 'Interval Start (S)': 0.0 <class 'numpy.float64'>\n",
      "Data type of 'Interval End (S)': 1.0 <class 'numpy.float64'>\n"
     ]
    }
   ],
   "source": [
    "# Convert the columns to numeric types\n",
    "df['Interval Start (S)'] = pd.to_numeric(df['Interval Start (S)'], errors='coerce')\n",
    "df['Interval End (S)'] = pd.to_numeric(df['Interval End (S)'], errors='coerce')\n",
    "\n",
    "# Ensure the values are numerical\n",
    "interval_start = df['Interval Start (S)'].iloc[0]\n",
    "interval_end = df['Interval End (S)'].iloc[0]\n",
    "\n",
    "# Check the data types\n",
    "print(\"Data type of 'Interval Start (S)':\", interval_start, type(interval_start))\n",
    "print(\"Data type of 'Interval End (S)':\", interval_end, type(interval_end))"
   ]
  },
  {
   "cell_type": "markdown",
   "metadata": {},
   "source": [
    "The +1 is added to the `interval_end.max()` to ensure that the last interval end is included in the range of time bins. This is because np.arange generates values in the half-open interval `[start, stop)`, meaning it includes the start value but excludes the stop value. By adding `+1` to `interval_end.max()`, you ensure that the last interval end is included in the time bins."
   ]
  },
  {
   "cell_type": "code",
   "execution_count": 90,
   "metadata": {},
   "outputs": [
    {
     "name": "stdout",
     "output_type": "stream",
     "text": [
      "['A1_32', 'A1_33', 'A1_34', 'A1_35', 'A1_36', 'A1_37']\n"
     ]
    }
   ],
   "source": [
    "# Define the bin width (e.g., 1 s)\n",
    "bin_width = 1.0\n",
    "\n",
    "# Columns to process\n",
    "columns_to_process = df.columns[20:25+1].tolist()\n",
    "\n",
    "print(columns_to_process)\n",
    "\n",
    "# Initialize a dictionary to accumulate spike counts for each column\n",
    "spike_counts = {col: {} for col in columns_to_process}\n"
   ]
  },
  {
   "cell_type": "code",
   "execution_count": 91,
   "metadata": {},
   "outputs": [],
   "source": [
    "# Initialize spike_counts dictionary\n",
    "spike_counts = {col: {} for col in columns_to_process}\n",
    "\n",
    "# Iterate over each row in the DataFrame\n",
    "for index, row in df.iterrows():\n",
    "    interval_start = row['Interval Start (S)']\n",
    "    interval_end = row['Interval End (S)']\n",
    "    \n",
    "    for col in columns_to_process:\n",
    "        spike_count = row[col]\n",
    "        \n",
    "        # Define the time bins for the current interval\n",
    "        try:\n",
    "            time_bins = np.arange(interval_start, interval_end + bin_width, bin_width)\n",
    "        except ValueError as e:\n",
    "            continue\n",
    "        \n",
    "        # Accumulate spike counts in the bins\n",
    "        for bin_start in time_bins[:-1]:\n",
    "            if bin_start not in spike_counts[col]:\n",
    "                spike_counts[col][bin_start] = 0\n",
    "            spike_counts[col][bin_start] += spike_count\n",
    "\n",
    "# Convert the dictionaries to sorted lists of bins and counts\n",
    "sorted_bins = {col: sorted(spike_counts[col].keys()) for col in columns_to_process}\n",
    "sorted_counts = {col: [spike_counts[col][bin_start] for bin_start in sorted_bins[col]] for col in columns_to_process}"
   ]
  },
  {
   "cell_type": "code",
   "execution_count": 92,
   "metadata": {},
   "outputs": [
    {
     "name": "stdout",
     "output_type": "stream",
     "text": [
      "Number of rows: 2\n",
      "Number of columns: 6\n"
     ]
    }
   ],
   "source": [
    "# Determine the number of columns to process\n",
    "num_columns = len(columns_to_process)\n",
    "\n",
    "# Calculate the number of rows and columns for the subplot grid\n",
    "num_cols = math.ceil(math.sqrt(num_columns))  # Number of columns in the grid\n",
    "num_rows = math.ceil(num_columns / num_cols)  # Calculate the number of rows needed\n",
    "\n",
    "print(\"Number of rows:\", num_rows)\n",
    "print(\"Number of columns:\", num_columns)\n"
   ]
  },
  {
   "cell_type": "code",
   "execution_count": 93,
   "metadata": {},
   "outputs": [
    {
     "data": {
      "image/png": "[encoded data removed]",
      "text/plain": [
       "<Figure size 1500x1000 with 6 Axes>"
      ]
     },
     "metadata": {},
     "output_type": "display_data"
    }
   ],
   "source": [
    "# Create a figure and an array of subplots\n",
    "fig, axs = plt.subplots(num_rows, num_cols, figsize=(num_cols * 5, num_rows * 5), sharey=True)\n",
    "\n",
    "# Ensure axs is always an array\n",
    "if not isinstance(axs, np.ndarray):\n",
    "    axs = np.array([axs])\n",
    "\n",
    "# Flatten the array of subplots for easy iteration\n",
    "axs = axs.flatten()\n",
    "\n",
    "# Loop through each column to process\n",
    "for index, col in enumerate(columns_to_process, 0):  # had to make this 0 bc it's usually 1\n",
    "    # Calculate the row and column index for the subplot\n",
    "    row_idx = num_rows - 1 - (index % num_rows)  # Reverse the row index\n",
    "    col_idx = index // num_rows\n",
    "\n",
    "    # Calculate the subplot index\n",
    "    subplot_index = row_idx * num_cols + col_idx\n",
    "\n",
    "    # Create a subplot for each column\n",
    "    ax = axs[subplot_index]\n",
    "    ax.hist(sorted_bins[col], bins=len(sorted_bins[col]), weights=sorted_counts[col], edgecolor='blue')\n",
    "    ax.set_xlabel('Time (s)')\n",
    "    ax.set_ylabel('Spike Count')\n",
    "    ax.set_title(f'Spike Count Histogram for {col}')\n",
    "\n",
    "    # # Add a vertical span (vspan) to highlight a region\n",
    "    # vspan_start = 1  # Start position of the vertical span\n",
    "    # vspan_end = 300    # End position of the vertical span\n",
    "    # ax.axvspan(vspan_start, vspan_end, color='lightgrey', alpha=0.5, zorder = 1)\n",
    "    \n",
    "# Adjust layout to prevent overlap\n",
    "plt.tight_layout()\n",
    "plt.subplots_adjust(hspace=0.5, wspace=0.5)  # Fine-tune the spacing\n",
    "plt.show()"
   ]
  }
 ],
 "metadata": {
  "kernelspec": {
   "display_name": "base",
   "language": "python",
   "name": "python3"
  },
  "language_info": {
   "codemirror_mode": {
    "name": "ipython",
    "version": 3
   },
   "file_extension": ".py",
   "mimetype": "text/x-python",
   "name": "python",
   "nbconvert_exporter": "python",
   "pygments_lexer": "ipython3",
   "version": "3.12.4"
  }
 },
 "nbformat": 4,
 "nbformat_minor": 2
}
