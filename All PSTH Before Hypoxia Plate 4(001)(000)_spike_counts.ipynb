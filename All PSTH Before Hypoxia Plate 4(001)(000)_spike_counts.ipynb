{
 "cells": [
  {
   "cell_type": "code",
   "execution_count": 191,
   "metadata": {},
   "outputs": [],
   "source": [
    "# Import packages\n",
    "import pandas as pd\n",
    "import numpy as np\n",
    "import matplotlib.pyplot as plt\n",
    "import math\n",
    "import seaborn as sns\n",
    "from scipy import stats\n",
    "from scipy.stats import ttest_rel, mannwhitneyu"
   ]
  },
  {
   "cell_type": "code",
   "execution_count": 192,
   "metadata": {},
   "outputs": [],
   "source": [
    "# Import the data\n",
    "df = pd.read_csv(r'C:\\Users\\Lindsay\\Github\\MEA_data\\Before Hypoxia Plate 4(001)(000)_spike_counts.csv')"
   ]
  },
  {
   "cell_type": "code",
   "execution_count": 193,
   "metadata": {},
   "outputs": [
    {
     "data": {
      "text/html": [
       "<div>\n",
       "<style scoped>\n",
       "    .dataframe tbody tr th:only-of-type {\n",
       "        vertical-align: middle;\n",
       "    }\n",
       "\n",
       "    .dataframe tbody tr th {\n",
       "        vertical-align: top;\n",
       "    }\n",
       "\n",
       "    .dataframe thead th {\n",
       "        text-align: right;\n",
       "    }\n",
       "</style>\n",
       "<table border=\"1\" class=\"dataframe\">\n",
       "  <thead>\n",
       "    <tr style=\"text-align: right;\">\n",
       "      <th></th>\n",
       "      <th>Interval Start (S)</th>\n",
       "      <th>Interval End (S)</th>\n",
       "      <th>A1</th>\n",
       "      <th>A1_11</th>\n",
       "      <th>A1_12</th>\n",
       "      <th>A1_13</th>\n",
       "      <th>A1_14</th>\n",
       "      <th>A1_15</th>\n",
       "      <th>A1_16</th>\n",
       "      <th>A1_17</th>\n",
       "      <th>...</th>\n",
       "      <th>A1_77</th>\n",
       "      <th>A1_78</th>\n",
       "      <th>A1_81</th>\n",
       "      <th>A1_82</th>\n",
       "      <th>A1_83</th>\n",
       "      <th>A1_84</th>\n",
       "      <th>A1_85</th>\n",
       "      <th>A1_86</th>\n",
       "      <th>A1_87</th>\n",
       "      <th>A1_88</th>\n",
       "    </tr>\n",
       "  </thead>\n",
       "  <tbody>\n",
       "    <tr>\n",
       "      <th>0</th>\n",
       "      <td>00000.000000</td>\n",
       "      <td>00001.000000</td>\n",
       "      <td>0</td>\n",
       "      <td>0.0</td>\n",
       "      <td>0.0</td>\n",
       "      <td>0.0</td>\n",
       "      <td>0.0</td>\n",
       "      <td>0.0</td>\n",
       "      <td>0.0</td>\n",
       "      <td>0.0</td>\n",
       "      <td>...</td>\n",
       "      <td>0.0</td>\n",
       "      <td>0.0</td>\n",
       "      <td>0.0</td>\n",
       "      <td>0.0</td>\n",
       "      <td>0.0</td>\n",
       "      <td>0.0</td>\n",
       "      <td>0.0</td>\n",
       "      <td>0.0</td>\n",
       "      <td>0.0</td>\n",
       "      <td>0.0</td>\n",
       "    </tr>\n",
       "    <tr>\n",
       "      <th>1</th>\n",
       "      <td>00001.000000</td>\n",
       "      <td>00002.000000</td>\n",
       "      <td>0</td>\n",
       "      <td>0.0</td>\n",
       "      <td>0.0</td>\n",
       "      <td>0.0</td>\n",
       "      <td>0.0</td>\n",
       "      <td>0.0</td>\n",
       "      <td>0.0</td>\n",
       "      <td>0.0</td>\n",
       "      <td>...</td>\n",
       "      <td>0.0</td>\n",
       "      <td>0.0</td>\n",
       "      <td>0.0</td>\n",
       "      <td>0.0</td>\n",
       "      <td>0.0</td>\n",
       "      <td>0.0</td>\n",
       "      <td>0.0</td>\n",
       "      <td>0.0</td>\n",
       "      <td>0.0</td>\n",
       "      <td>0.0</td>\n",
       "    </tr>\n",
       "    <tr>\n",
       "      <th>2</th>\n",
       "      <td>00002.000000</td>\n",
       "      <td>00003.000000</td>\n",
       "      <td>2</td>\n",
       "      <td>0.0</td>\n",
       "      <td>0.0</td>\n",
       "      <td>0.0</td>\n",
       "      <td>0.0</td>\n",
       "      <td>0.0</td>\n",
       "      <td>0.0</td>\n",
       "      <td>0.0</td>\n",
       "      <td>...</td>\n",
       "      <td>0.0</td>\n",
       "      <td>0.0</td>\n",
       "      <td>0.0</td>\n",
       "      <td>0.0</td>\n",
       "      <td>0.0</td>\n",
       "      <td>0.0</td>\n",
       "      <td>0.0</td>\n",
       "      <td>0.0</td>\n",
       "      <td>0.0</td>\n",
       "      <td>0.0</td>\n",
       "    </tr>\n",
       "    <tr>\n",
       "      <th>3</th>\n",
       "      <td>00003.000000</td>\n",
       "      <td>00004.000000</td>\n",
       "      <td>1</td>\n",
       "      <td>0.0</td>\n",
       "      <td>0.0</td>\n",
       "      <td>0.0</td>\n",
       "      <td>0.0</td>\n",
       "      <td>0.0</td>\n",
       "      <td>0.0</td>\n",
       "      <td>0.0</td>\n",
       "      <td>...</td>\n",
       "      <td>0.0</td>\n",
       "      <td>0.0</td>\n",
       "      <td>0.0</td>\n",
       "      <td>0.0</td>\n",
       "      <td>0.0</td>\n",
       "      <td>0.0</td>\n",
       "      <td>0.0</td>\n",
       "      <td>0.0</td>\n",
       "      <td>0.0</td>\n",
       "      <td>0.0</td>\n",
       "    </tr>\n",
       "    <tr>\n",
       "      <th>4</th>\n",
       "      <td>00004.000000</td>\n",
       "      <td>00005.000000</td>\n",
       "      <td>2</td>\n",
       "      <td>0.0</td>\n",
       "      <td>0.0</td>\n",
       "      <td>0.0</td>\n",
       "      <td>0.0</td>\n",
       "      <td>0.0</td>\n",
       "      <td>0.0</td>\n",
       "      <td>0.0</td>\n",
       "      <td>...</td>\n",
       "      <td>0.0</td>\n",
       "      <td>0.0</td>\n",
       "      <td>0.0</td>\n",
       "      <td>0.0</td>\n",
       "      <td>0.0</td>\n",
       "      <td>0.0</td>\n",
       "      <td>0.0</td>\n",
       "      <td>0.0</td>\n",
       "      <td>0.0</td>\n",
       "      <td>0.0</td>\n",
       "    </tr>\n",
       "  </tbody>\n",
       "</table>\n",
       "<p>5 rows × 67 columns</p>\n",
       "</div>"
      ],
      "text/plain": [
       "  Interval Start (S) Interval End (S) A1  A1_11  A1_12  A1_13  A1_14  A1_15  \\\n",
       "0       00000.000000     00001.000000  0    0.0    0.0    0.0    0.0    0.0   \n",
       "1       00001.000000     00002.000000  0    0.0    0.0    0.0    0.0    0.0   \n",
       "2       00002.000000     00003.000000  2    0.0    0.0    0.0    0.0    0.0   \n",
       "3       00003.000000     00004.000000  1    0.0    0.0    0.0    0.0    0.0   \n",
       "4       00004.000000     00005.000000  2    0.0    0.0    0.0    0.0    0.0   \n",
       "\n",
       "   A1_16  A1_17  ...  A1_77  A1_78  A1_81  A1_82  A1_83  A1_84  A1_85  A1_86  \\\n",
       "0    0.0    0.0  ...    0.0    0.0    0.0    0.0    0.0    0.0    0.0    0.0   \n",
       "1    0.0    0.0  ...    0.0    0.0    0.0    0.0    0.0    0.0    0.0    0.0   \n",
       "2    0.0    0.0  ...    0.0    0.0    0.0    0.0    0.0    0.0    0.0    0.0   \n",
       "3    0.0    0.0  ...    0.0    0.0    0.0    0.0    0.0    0.0    0.0    0.0   \n",
       "4    0.0    0.0  ...    0.0    0.0    0.0    0.0    0.0    0.0    0.0    0.0   \n",
       "\n",
       "   A1_87  A1_88  \n",
       "0    0.0    0.0  \n",
       "1    0.0    0.0  \n",
       "2    0.0    0.0  \n",
       "3    0.0    0.0  \n",
       "4    0.0    0.0  \n",
       "\n",
       "[5 rows x 67 columns]"
      ]
     },
     "execution_count": 193,
     "metadata": {},
     "output_type": "execute_result"
    }
   ],
   "source": [
    "# Deleting empty columns\n",
    "df = df.dropna(axis=1, how='all')\n",
    "\n",
    "# deleting the unnamed column\n",
    "df = df.drop('Unnamed: 2', axis=1)\n",
    "\n",
    "df.head()"
   ]
  },
  {
   "cell_type": "markdown",
   "metadata": {},
   "source": [
    "The highlighted text is a line of Python code that uses the `dropna` method from the pandas library to remove columns from a DataFrame (`df`) that contain only `NaN` (Not a Number) values.\n",
    "\n",
    "Explanation:\n",
    "`df.dropna(axis=1, how='all')`:\n",
    "`df`: The DataFrame from which columns are being removed.\n",
    "`dropna`: A method to remove missing values.\n",
    "`axis=1`: Specifies that the operation should be performed on columns (if `axis=0`, it would operate on rows).\n",
    "`how='all'`: Specifies that only columns where all values are NaN should be removed."
   ]
  },
  {
   "cell_type": "code",
   "execution_count": 194,
   "metadata": {},
   "outputs": [
    {
     "name": "stdout",
     "output_type": "stream",
     "text": [
      "Before converting the data types:\n",
      "Data type of 'Interval Start (S)': <class 'str'>\n",
      "Data type of 'Interval End (S)': <class 'str'>\n",
      "Data type of 'A1_11': <class 'numpy.float64'>\n"
     ]
    }
   ],
   "source": [
    "# Check the data types\n",
    "print('Before converting the data types:')\n",
    "print(\"Data type of 'Interval Start (S)':\", type(df['Interval Start (S)'][0]))\n",
    "print(\"Data type of 'Interval End (S)':\", type(df['Interval End (S)'][0]))\n",
    "print(\"Data type of 'A1_11':\", type(df['A1_11'][0]))\n",
    "\n",
    "# Python is seeing the intervals as strings instead of floats"
   ]
  },
  {
   "cell_type": "code",
   "execution_count": 195,
   "metadata": {},
   "outputs": [
    {
     "name": "stdout",
     "output_type": "stream",
     "text": [
      "Data type of 'Interval Start (S)': 0.0 <class 'numpy.float64'>\n",
      "Data type of 'Interval End (S)': 1.0 <class 'numpy.float64'>\n"
     ]
    }
   ],
   "source": [
    "# Convert the columns to numeric types\n",
    "df['Interval Start (S)'] = pd.to_numeric(df['Interval Start (S)'], errors='coerce')\n",
    "df['Interval End (S)'] = pd.to_numeric(df['Interval End (S)'], errors='coerce')\n",
    "\n",
    "# Ensure the values are numerical\n",
    "interval_start = df['Interval Start (S)'].iloc[0]\n",
    "interval_end = df['Interval End (S)'].iloc[0]\n",
    "\n",
    "# Check the data types\n",
    "print(\"Data type of 'Interval Start (S)':\", interval_start, type(interval_start))\n",
    "print(\"Data type of 'Interval End (S)':\", interval_end, type(interval_end))"
   ]
  },
  {
   "cell_type": "markdown",
   "metadata": {},
   "source": [
    "The +1 is added to the `interval_end.max()` to ensure that the last interval end is included in the range of time bins. This is because np.arange generates values in the half-open interval `[start, stop)`, meaning it includes the start value but excludes the stop value. By adding `+1` to `interval_end.max()`, you ensure that the last interval end is included in the time bins."
   ]
  },
  {
   "cell_type": "code",
   "execution_count": 196,
   "metadata": {},
   "outputs": [
    {
     "name": "stdout",
     "output_type": "stream",
     "text": [
      "['A1_32', 'A1_33', 'A1_34', 'A1_35', 'A1_36', 'A1_37']\n"
     ]
    }
   ],
   "source": [
    "# Define the bin width (e.g., 1 s)\n",
    "bin_width = 1.0\n",
    "\n",
    "# Columns to process\n",
    "columns_to_process = df.columns[20:25+1].tolist()\n",
    "\n",
    "print(columns_to_process)\n",
    "\n",
    "# Initialize a dictionary to accumulate spike counts for each column\n",
    "spike_counts = {col: {} for col in columns_to_process}\n"
   ]
  },
  {
   "cell_type": "code",
   "execution_count": 197,
   "metadata": {},
   "outputs": [],
   "source": [
    "# Initialize spike_counts dictionary\n",
    "spike_counts = {col: {} for col in columns_to_process}\n",
    "\n",
    "# Iterate over each row in the DataFrame\n",
    "for index, row in df.iterrows():\n",
    "    interval_start = row['Interval Start (S)']\n",
    "    interval_end = row['Interval End (S)']\n",
    "    \n",
    "    for col in columns_to_process:\n",
    "        spike_count = row[col]\n",
    "        \n",
    "        # Define the time bins for the current interval\n",
    "        try:\n",
    "            time_bins = np.arange(interval_start, interval_end + bin_width, bin_width)\n",
    "        except ValueError as e:\n",
    "            continue\n",
    "        \n",
    "        # Accumulate spike counts in the bins\n",
    "        for bin_start in time_bins[:-1]:\n",
    "            if bin_start not in spike_counts[col]:\n",
    "                spike_counts[col][bin_start] = 0\n",
    "            spike_counts[col][bin_start] += spike_count\n",
    "\n",
    "# Convert the dictionaries to sorted lists of bins and counts\n",
    "sorted_bins = {col: sorted(spike_counts[col].keys()) for col in columns_to_process}\n",
    "sorted_counts = {col: [spike_counts[col][bin_start] for bin_start in sorted_bins[col]] for col in columns_to_process}"
   ]
  },
  {
   "cell_type": "code",
   "execution_count": null,
   "metadata": {},
   "outputs": [],
   "source": []
  },
  {
   "cell_type": "code",
   "execution_count": 198,
   "metadata": {},
   "outputs": [
    {
     "name": "stdout",
     "output_type": "stream",
     "text": [
      "Number of rows: 2\n",
      "Number of columns: 6\n"
     ]
    }
   ],
   "source": [
    "# Determine the number of columns to process\n",
    "num_columns = len(columns_to_process)\n",
    "\n",
    "# Calculate the number of rows and columns for the subplot grid\n",
    "num_cols = math.ceil(math.sqrt(num_columns))  # Number of columns in the grid\n",
    "num_rows = math.ceil(num_columns / num_cols)  # Calculate the number of rows needed\n",
    "\n",
    "print(\"Number of rows:\", num_rows)\n",
    "print(\"Number of columns:\", num_columns)\n"
   ]
  },
  {
   "cell_type": "code",
   "execution_count": 199,
   "metadata": {},
   "outputs": [
    {
     "data": {
      "image/png": "[encoded data removed]",
      "text/plain": [
       "<Figure size 1500x1000 with 6 Axes>"
      ]
     },
     "metadata": {},
     "output_type": "display_data"
    }
   ],
   "source": [
    "# Create a figure and an array of subplots\n",
    "fig, axs = plt.subplots(num_rows, num_cols, figsize=(num_cols * 5, num_rows * 5), sharey=True)\n",
    "\n",
    "# Ensure axs is always an array\n",
    "if not isinstance(axs, np.ndarray):\n",
    "    axs = np.array([axs])\n",
    "\n",
    "# Flatten the array of subplots for easy iteration\n",
    "axs = axs.flatten()\n",
    "\n",
    "# Loop through each column to process\n",
    "for index, col in enumerate(columns_to_process, 0):  # had to make this 0 bc it's usually 1\n",
    "    # Calculate the row and column index for the subplot\n",
    "    row_idx = num_rows - 1 - (index % num_rows)  # Reverse the row index\n",
    "    col_idx = index // num_rows\n",
    "\n",
    "    # Calculate the subplot index\n",
    "    subplot_index = row_idx * num_cols + col_idx\n",
    "\n",
    "    # Create a subplot for each column\n",
    "    ax = axs[subplot_index]\n",
    "    ax.hist(sorted_bins[col], bins=len(sorted_bins[col]), weights=sorted_counts[col], edgecolor='blue')\n",
    "    ax.set_xlabel('Time (s)')\n",
    "    ax.set_ylabel('Spike Count')\n",
    "    ax.set_title(f'Spike Count Histogram for {col}')\n",
    "\n",
    "    # # Add a vertical span (vspan) to highlight a region\n",
    "    # vspan_start = 1  # Start position of the vertical span\n",
    "    # vspan_end = 300    # End position of the vertical span\n",
    "    # ax.axvspan(vspan_start, vspan_end, color='lightgrey', alpha=0.5, zorder = 1)\n",
    "    \n",
    "# Adjust layout to prevent overlap\n",
    "plt.tight_layout()\n",
    "plt.subplots_adjust(hspace=0.5, wspace=0.5)  # Fine-tune the spacing\n",
    "plt.show()"
   ]
  },
  {
   "cell_type": "markdown",
   "metadata": {},
   "source": [
    "## Comparing the mean firing rate of each electrode"
   ]
  },
  {
   "cell_type": "code",
   "execution_count": 200,
   "metadata": {},
   "outputs": [
    {
     "name": "stdout",
     "output_type": "stream",
     "text": [
      "{'A1_32': {'first_300_seconds': 0.0, 'last_200_seconds': 0.0}, 'A1_33': {'first_300_seconds': 0.01, 'last_200_seconds': 0.02}, 'A1_34': {'first_300_seconds': 0.66, 'last_200_seconds': 0.68}, 'A1_35': {'first_300_seconds': 0.55, 'last_200_seconds': 0.52}, 'A1_36': {'first_300_seconds': 0.06, 'last_200_seconds': 0.07}, 'A1_37': {'first_300_seconds': 0.0, 'last_200_seconds': 0.0}}\n"
     ]
    }
   ],
   "source": [
    "mean_firing_rate = {}\n",
    "first_segment_duration = 300\n",
    "last_segment_duration = 200\n",
    "\n",
    "for col in columns_to_process:\n",
    "    # Calculate total duration\n",
    "    total_duration = sorted_bins[col][-1] - sorted_bins[col][0] + bin_width  # Assuming bins are in seconds\n",
    "\n",
    "    # Determine the indices for the first and last segments\n",
    "    first_segment_end_idx = np.searchsorted(sorted_bins[col], first_segment_duration)\n",
    "    last_segment_start_idx = np.searchsorted(sorted_bins[col], total_duration - last_segment_duration)\n",
    "\n",
    "    # Calculate the mean firing rate for the first 300 seconds\n",
    "    first_segment_spikes = sum(sorted_counts[col][:first_segment_end_idx])\n",
    "    first_segment_total_duration = sorted_bins[col][first_segment_end_idx - 1] - sorted_bins[col][0] + bin_width\n",
    "    first_segment_mean_firing_rate = round(first_segment_spikes / first_segment_total_duration, 2) if first_segment_total_duration > 0 else 0\n",
    "\n",
    "    # Calculate the mean firing rate for the last 200 seconds\n",
    "    last_segment_spikes = sum(sorted_counts[col][last_segment_start_idx:])\n",
    "    last_segment_total_duration = sorted_bins[col][-1] - sorted_bins[col][last_segment_start_idx] + bin_width\n",
    "    last_segment_mean_firing_rate = round(last_segment_spikes / last_segment_total_duration, 2) if last_segment_total_duration > 0 else 0\n",
    "\n",
    "    # Store the results in the dictionary\n",
    "    mean_firing_rate[col] = {\n",
    "        'first_300_seconds': first_segment_mean_firing_rate,\n",
    "        'last_200_seconds': last_segment_mean_firing_rate\n",
    "    }\n",
    "\n",
    "print(mean_firing_rate)"
   ]
  },
  {
   "cell_type": "code",
   "execution_count": 201,
   "metadata": {},
   "outputs": [
    {
     "name": "stdout",
     "output_type": "stream",
     "text": [
      "[('A1_32', 0.  , 0.  ) ('A1_33', 0.01, 0.02) ('A1_34', 0.66, 0.68)\n",
      " ('A1_35', 0.55, 0.52) ('A1_36', 0.06, 0.07) ('A1_37', 0.  , 0.  )]\n",
      "The size of the mean_firing_rate_array is: 6\n"
     ]
    }
   ],
   "source": [
    "# Change the duration of the first and last segments here\n",
    "mean_firing_rate = {}\n",
    "first_segment_duration = 300\n",
    "last_segment_duration = 200\n",
    "\n",
    "# Initialize lists to store the mean firing rates\n",
    "first_segment_means = []\n",
    "last_segment_means = []\n",
    "columns = []\n",
    "\n",
    "for col in columns_to_process:\n",
    "    # Calculate total duration\n",
    "    total_duration = sorted_bins[col][-1] - sorted_bins[col][0] + bin_width  # Assuming bins are in seconds\n",
    "\n",
    "    # Determine the indices for the first and last segments\n",
    "    first_segment_end_idx = np.searchsorted(sorted_bins[col], first_segment_duration)\n",
    "    last_segment_start_idx = np.searchsorted(sorted_bins[col], total_duration - last_segment_duration)\n",
    "\n",
    "    # Calculate the mean firing rate for the first segment\n",
    "    first_segment_spikes = sum(sorted_counts[col][:first_segment_end_idx])\n",
    "    first_segment_total_duration = sorted_bins[col][first_segment_end_idx - 1] - sorted_bins[col][0] + bin_width\n",
    "    first_segment_mean_firing_rate = round(first_segment_spikes / first_segment_total_duration, 2) if first_segment_total_duration > 0 else 0\n",
    "\n",
    "    # Calculate the mean firing rate for the last segment\n",
    "    last_segment_spikes = sum(sorted_counts[col][last_segment_start_idx:])\n",
    "    last_segment_total_duration = sorted_bins[col][-1] - sorted_bins[col][last_segment_start_idx] + bin_width\n",
    "    last_segment_mean_firing_rate = round(last_segment_spikes / last_segment_total_duration, 2) if last_segment_total_duration > 0 else 0\n",
    "\n",
    "    # Append the results to the lists\n",
    "    first_segment_means.append(first_segment_mean_firing_rate)\n",
    "    last_segment_means.append(last_segment_mean_firing_rate)\n",
    "    columns.append(col)\n",
    "\n",
    "# Convert the lists to NumPy arrays\n",
    "first_segment_means_array = np.array(first_segment_means)\n",
    "last_segment_means_array = np.array(last_segment_means)\n",
    "columns_array = np.array(columns)\n",
    "\n",
    "# Create adaptable field names based on the durations\n",
    "first_segment_field = f'first_{first_segment_duration}_seconds'\n",
    "last_segment_field = f'last_{last_segment_duration}_seconds'\n",
    "\n",
    "# Create a structured NumPy array to match the columns to the mean firing rates\n",
    "dtype = [\n",
    "    ('column', 'U20'), \n",
    "    (first_segment_field, 'f4'), \n",
    "    (last_segment_field, 'f4')\n",
    "]\n",
    "mean_firing_rate_array = np.zeros(len(columns), dtype=dtype)\n",
    "mean_firing_rate_array['column'] = columns_array\n",
    "mean_firing_rate_array[first_segment_field] = first_segment_means_array\n",
    "mean_firing_rate_array[last_segment_field] = last_segment_means_array\n",
    "\n",
    "\n",
    "# Print the structured NumPy array\n",
    "print(mean_firing_rate_array)\n",
    "print(\"The size of the mean_firing_rate_array is:\", mean_firing_rate_array.size)"
   ]
  },
  {
   "cell_type": "code",
   "execution_count": 202,
   "metadata": {},
   "outputs": [
    {
     "name": "stdout",
     "output_type": "stream",
     "text": [
      "[['A1_34' 0.66 198.0 0.68 136.0]]\n"
     ]
    }
   ],
   "source": [
    "print(data_array)\n"
   ]
  },
  {
   "cell_type": "code",
   "execution_count": 203,
   "metadata": {},
   "outputs": [],
   "source": [
    "import numpy as np\n",
    "from scipy.stats import ttest_rel, wilcoxon, pearsonr, spearmanr\n",
    "\n",
    "# Assuming sorted_counts, sorted_bins, columns_to_process, and bin_width are already defined\n",
    "\n",
    "sorted_counts = {col: [spike_counts[col][bin_start] for bin_start in sorted_bins[col]] for col in columns_to_process}\n",
    "\n",
    "# Convert the sorted lists to NumPy arrays\n",
    "sorted_bins_np = {col: np.array(sorted_bins[col]) for col in columns_to_process}\n",
    "sorted_counts_np = {col: np.array(sorted_counts[col]) for col in columns_to_process}\n",
    "\n",
    "mean_firing_rate = {}\n",
    "first_segment_duration = 300\n",
    "last_segment_duration = 200\n",
    "\n",
    "first_segment_means_array = []\n",
    "first_segment_spike_counts = []\n",
    "last_segment_means_array = []\n",
    "last_segment_spike_counts = []"
   ]
  },
  {
   "cell_type": "code",
   "execution_count": 204,
   "metadata": {},
   "outputs": [
    {
     "name": "stdout",
     "output_type": "stream",
     "text": [
      "{'A1_32': {'first_300_seconds': 0.0, 'last_200_seconds': 0.0}, 'A1_33': {'first_300_seconds': 0.01, 'last_200_seconds': 0.02}, 'A1_34': {'first_300_seconds': 0.66, 'last_200_seconds': 0.68}, 'A1_35': {'first_300_seconds': 0.55, 'last_200_seconds': 0.52}, 'A1_36': {'first_300_seconds': 0.06, 'last_200_seconds': 0.07}, 'A1_37': {'first_300_seconds': 0.0, 'last_200_seconds': 0.0}}\n"
     ]
    }
   ],
   "source": [
    "for col in columns_to_process:\n",
    "    # Calculate total duration\n",
    "    total_duration = sorted_bins_np[col][-1] - sorted_bins_np[col][0] + bin_width  # Assuming bins are in seconds\n",
    "\n",
    "    # Determine the indices for the first and last segments\n",
    "    first_segment_end_idx = np.searchsorted(sorted_bins_np[col], first_segment_duration)\n",
    "    last_segment_start_idx = np.searchsorted(sorted_bins_np[col], total_duration - last_segment_duration)\n",
    "\n",
    "    # Calculate the mean firing rate for the first 300 seconds\n",
    "    first_segment_spikes = sum(sorted_counts_np[col][:first_segment_end_idx])\n",
    "    first_segment_total_duration = sorted_bins_np[col][first_segment_end_idx - 1] - sorted_bins_np[col][0] + bin_width\n",
    "    first_segment_mean_firing_rate = round(first_segment_spikes / first_segment_total_duration, 2) if first_segment_total_duration > 0 else 0\n",
    "\n",
    "    # Calculate the mean firing rate for the last 200 seconds\n",
    "    last_segment_spikes = sum(sorted_counts_np[col][last_segment_start_idx:])\n",
    "    last_segment_total_duration = sorted_bins_np[col][-1] - sorted_bins_np[col][last_segment_start_idx] + bin_width\n",
    "    last_segment_mean_firing_rate = round(last_segment_spikes / last_segment_total_duration, 2) if last_segment_total_duration > 0 else 0\n",
    "\n",
    "    # Store the results in the dictionary\n",
    "    mean_firing_rate[col] = {\n",
    "        'first_300_seconds': first_segment_mean_firing_rate,\n",
    "        'last_200_seconds': last_segment_mean_firing_rate\n",
    "    }\n",
    "\n",
    "    # Store the segment means and spike counts in arrays\n",
    "    first_segment_means_array.append(first_segment_mean_firing_rate)\n",
    "    first_segment_spike_counts.append(first_segment_spikes)\n",
    "    last_segment_means_array.append(last_segment_mean_firing_rate)\n",
    "    last_segment_spike_counts.append(last_segment_spikes)\n",
    "\n",
    "print(mean_firing_rate)"
   ]
  },
  {
   "cell_type": "code",
   "execution_count": 205,
   "metadata": {},
   "outputs": [
    {
     "name": "stdout",
     "output_type": "stream",
     "text": [
      "[('A1_32', 0.0, 0.0, 0.0, 0.0), ('A1_33', 0.01, 2.0, 0.02, 5.0), ('A1_34', 0.66, 198.0, 0.68, 136.0), ('A1_35', 0.55, 165.0, 0.52, 105.0), ('A1_36', 0.06, 17.0, 0.07, 14.0), ('A1_37', 0.0, 0.0, 0.0, 0.0)]\n"
     ]
    }
   ],
   "source": [
    "# Convert the segment means and spike counts into a NumPy array for easier manipulation\n",
    "data = [\n",
    "    (\n",
    "        col, \n",
    "        first_segment_means_array[i], \n",
    "        first_segment_spike_counts[i], \n",
    "        last_segment_means_array[i], \n",
    "        last_segment_spike_counts[i]\n",
    "    )\n",
    "    for i, col in enumerate(columns_to_process)\n",
    "]\n",
    "\n",
    "print(data)"
   ]
  },
  {
   "cell_type": "code",
   "execution_count": 206,
   "metadata": {},
   "outputs": [
    {
     "name": "stdout",
     "output_type": "stream",
     "text": [
      "[['A1_32' 0.0 0.0 0.0 0.0]\n",
      " ['A1_33' 0.01 2.0 0.02 5.0]\n",
      " ['A1_34' 0.66 198.0 0.68 136.0]\n",
      " ['A1_35' 0.55 165.0 0.52 105.0]\n",
      " ['A1_36' 0.06 17.0 0.07 14.0]\n",
      " ['A1_37' 0.0 0.0 0.0 0.0]]\n"
     ]
    }
   ],
   "source": [
    "# Convert the list of tuples to a NumPy array\n",
    "data_array = np.array(data, dtype=object)\n",
    "\n",
    "print(data_array)"
   ]
  },
  {
   "cell_type": "code",
   "execution_count": 207,
   "metadata": {},
   "outputs": [
    {
     "name": "stdout",
     "output_type": "stream",
     "text": [
      "Mean Firing Rate for the first 300 seconds: 0.00 Hz\n",
      "Mean Firing Rate for the last 200 seconds: 0.00 Hz\n"
     ]
    }
   ],
   "source": [
    "first_segment_duration = 300\n",
    "last_segment_duration = 200\n",
    "\n",
    "for col in columns_to_process:\n",
    "    # Calculate total duration\n",
    "    total_duration = sorted_bins_np[col][-1] - sorted_bins_np[col][0] + bin_width  # Assuming bins are in seconds\n",
    "\n",
    "    # Determine the indices for the first and last segments\n",
    "    first_segment_end_idx = np.searchsorted(sorted_bins_np[col], first_segment_duration)\n",
    "    last_segment_start_idx = np.searchsorted(sorted_bins_np[col], total_duration - last_segment_duration)\n",
    "\n",
    "    # Extract the spike counts for the first and last segments\n",
    "    first_segment_counts = sorted_counts_np[col][:first_segment_end_idx]\n",
    "    last_segment_counts = sorted_counts_np[col][last_segment_start_idx:]\n",
    "\n",
    "    # Calculate the mean firing rate for the first 300 seconds\n",
    "    first_segment_spikes = np.sum(first_segment_counts)\n",
    "    first_segment_total_duration = sorted_bins_np[col][first_segment_end_idx - 1] - sorted_bins_np[col][0] + bin_width\n",
    "    first_segment_mean_firing_rate = round(first_segment_spikes / first_segment_total_duration, 2) if first_segment_total_duration > 0 else 0\n",
    "\n",
    "    # Calculate the mean firing rate for the last 200 seconds\n",
    "    last_segment_spikes = np.sum(last_segment_counts)\n",
    "    last_segment_total_duration = sorted_bins_np[col][-1] - sorted_bins_np[col][last_segment_start_idx] + bin_width\n",
    "    last_segment_mean_firing_rate = round(last_segment_spikes / last_segment_total_duration, 2) if last_segment_total_duration > 0 else 0\n",
    "\n",
    "# Print mean firing rates for the columns\n",
    "print(f'Mean Firing Rate for the first 300 seconds: {first_segment_mean_firing_rate:.2f} Hz')\n",
    "print(f'Mean Firing Rate for the last 200 seconds: {last_segment_mean_firing_rate:.2f} Hz')\n"
   ]
  },
  {
   "cell_type": "code",
   "execution_count": 208,
   "metadata": {},
   "outputs": [
    {
     "name": "stdout",
     "output_type": "stream",
     "text": [
      "Shapiro test p-value for Channel 1: 1.000e+00\n",
      "Shapiro test p-value for Channel 2: 1.000e+00\n"
     ]
    },
    {
     "name": "stderr",
     "output_type": "stream",
     "text": [
      "c:\\Users\\Lindsay\\anaconda3\\Lib\\site-packages\\scipy\\stats\\_axis_nan_policy.py:531: UserWarning: scipy.stats.shapiro: Input data has range zero. The results may not be accurate.\n",
      "  res = hypotest_fun_out(*samples, **kwds)\n"
     ]
    }
   ],
   "source": [
    "# Perform normality test using Shapiro-Wilk test\n",
    "_, p_value_first_segment = shapiro(first_segment_counts)\n",
    "_, p_value_last_segment = shapiro(last_segment_counts)\n",
    "\n",
    "print(f'Shapiro test p-value for Channel 1: {p_value_first_segment:.3e}')\n",
    "print(f'Shapiro test p-value for Channel 2: {p_value_last_segment:.3e}')"
   ]
  },
  {
   "cell_type": "code",
   "execution_count": 209,
   "metadata": {},
   "outputs": [
    {
     "ename": "ValueError",
     "evalue": "unequal length arrays",
     "output_type": "error",
     "traceback": [
      "\u001b[1;31m---------------------------------------------------------------------------\u001b[0m",
      "\u001b[1;31mValueError\u001b[0m                                Traceback (most recent call last)",
      "\u001b[1;32m~\\AppData\\Local\\Temp\\ipykernel_7328\\790878259.py\u001b[0m in \u001b[0;36m?\u001b[1;34m()\u001b[0m\n\u001b[0;32m      1\u001b[0m \u001b[1;31m# Decide on the test based on normality\u001b[0m\u001b[1;33m\u001b[0m\u001b[1;33m\u001b[0m\u001b[0m\n\u001b[0;32m      2\u001b[0m \u001b[1;32mif\u001b[0m \u001b[0mp_value_first_segment\u001b[0m \u001b[1;33m>\u001b[0m \u001b[1;36m0.05\u001b[0m \u001b[1;32mand\u001b[0m \u001b[0mp_value_last_segment\u001b[0m \u001b[1;33m>\u001b[0m \u001b[1;36m0.05\u001b[0m\u001b[1;33m:\u001b[0m\u001b[1;33m\u001b[0m\u001b[1;33m\u001b[0m\u001b[0m\n\u001b[0;32m      3\u001b[0m     \u001b[1;31m# Both segments are normally distributed, perform paired t-test\u001b[0m\u001b[1;33m\u001b[0m\u001b[1;33m\u001b[0m\u001b[0m\n\u001b[1;32m----> 4\u001b[1;33m     \u001b[0mt_stat\u001b[0m\u001b[1;33m,\u001b[0m \u001b[0mp_value\u001b[0m \u001b[1;33m=\u001b[0m \u001b[0mttest_rel\u001b[0m\u001b[1;33m(\u001b[0m\u001b[0mfirst_segment_counts\u001b[0m\u001b[1;33m,\u001b[0m \u001b[0mlast_segment_counts\u001b[0m\u001b[1;33m)\u001b[0m\u001b[1;33m\u001b[0m\u001b[1;33m\u001b[0m\u001b[0m\n\u001b[0m\u001b[0;32m      5\u001b[0m     \u001b[0mtest_name\u001b[0m \u001b[1;33m=\u001b[0m \u001b[1;34m\"Paired t-test\"\u001b[0m\u001b[1;33m\u001b[0m\u001b[1;33m\u001b[0m\u001b[0m\n\u001b[0;32m      6\u001b[0m \u001b[1;32melse\u001b[0m\u001b[1;33m:\u001b[0m\u001b[1;33m\u001b[0m\u001b[1;33m\u001b[0m\u001b[0m\n\u001b[0;32m      7\u001b[0m     \u001b[1;31m# At least one segment is not normally distributed, perform Mann-Whitney U test\u001b[0m\u001b[1;33m\u001b[0m\u001b[1;33m\u001b[0m\u001b[0m\n",
      "\u001b[1;32mc:\\Users\\Lindsay\\anaconda3\\Lib\\site-packages\\scipy\\stats\\_axis_nan_policy.py\u001b[0m in \u001b[0;36m?\u001b[1;34m(***failed resolving arguments***)\u001b[0m\n\u001b[0;32m    527\u001b[0m                 \u001b[1;31m# behavior of those would break backward compatibility.\u001b[0m\u001b[1;33m\u001b[0m\u001b[1;33m\u001b[0m\u001b[0m\n\u001b[0;32m    528\u001b[0m \u001b[1;33m\u001b[0m\u001b[0m\n\u001b[0;32m    529\u001b[0m                 \u001b[1;32mif\u001b[0m \u001b[0msentinel\u001b[0m\u001b[1;33m:\u001b[0m\u001b[1;33m\u001b[0m\u001b[1;33m\u001b[0m\u001b[0m\n\u001b[0;32m    530\u001b[0m                     \u001b[0msamples\u001b[0m \u001b[1;33m=\u001b[0m \u001b[0m_remove_sentinel\u001b[0m\u001b[1;33m(\u001b[0m\u001b[0msamples\u001b[0m\u001b[1;33m,\u001b[0m \u001b[0mpaired\u001b[0m\u001b[1;33m,\u001b[0m \u001b[0msentinel\u001b[0m\u001b[1;33m)\u001b[0m\u001b[1;33m\u001b[0m\u001b[1;33m\u001b[0m\u001b[0m\n\u001b[1;32m--> 531\u001b[1;33m                 \u001b[0mres\u001b[0m \u001b[1;33m=\u001b[0m \u001b[0mhypotest_fun_out\u001b[0m\u001b[1;33m(\u001b[0m\u001b[1;33m*\u001b[0m\u001b[0msamples\u001b[0m\u001b[1;33m,\u001b[0m \u001b[1;33m**\u001b[0m\u001b[0mkwds\u001b[0m\u001b[1;33m)\u001b[0m\u001b[1;33m\u001b[0m\u001b[1;33m\u001b[0m\u001b[0m\n\u001b[0m\u001b[0;32m    532\u001b[0m                 \u001b[0mres\u001b[0m \u001b[1;33m=\u001b[0m \u001b[0mresult_to_tuple\u001b[0m\u001b[1;33m(\u001b[0m\u001b[0mres\u001b[0m\u001b[1;33m)\u001b[0m\u001b[1;33m\u001b[0m\u001b[1;33m\u001b[0m\u001b[0m\n\u001b[0;32m    533\u001b[0m                 \u001b[0mres\u001b[0m \u001b[1;33m=\u001b[0m \u001b[0m_add_reduced_axes\u001b[0m\u001b[1;33m(\u001b[0m\u001b[0mres\u001b[0m\u001b[1;33m,\u001b[0m \u001b[0mreduced_axes\u001b[0m\u001b[1;33m,\u001b[0m \u001b[0mkeepdims\u001b[0m\u001b[1;33m)\u001b[0m\u001b[1;33m\u001b[0m\u001b[1;33m\u001b[0m\u001b[0m\n\u001b[0;32m    534\u001b[0m                 \u001b[1;32mreturn\u001b[0m \u001b[0mtuple_to_result\u001b[0m\u001b[1;33m(\u001b[0m\u001b[1;33m*\u001b[0m\u001b[0mres\u001b[0m\u001b[1;33m)\u001b[0m\u001b[1;33m\u001b[0m\u001b[1;33m\u001b[0m\u001b[0m\n",
      "\u001b[1;32mc:\\Users\\Lindsay\\anaconda3\\Lib\\site-packages\\scipy\\stats\\_stats_py.py\u001b[0m in \u001b[0;36m?\u001b[1;34m(a, b, axis, nan_policy, alternative)\u001b[0m\n\u001b[0;32m   7703\u001b[0m \u001b[1;33m\u001b[0m\u001b[0m\n\u001b[0;32m   7704\u001b[0m     \u001b[0mna\u001b[0m \u001b[1;33m=\u001b[0m \u001b[0m_get_len\u001b[0m\u001b[1;33m(\u001b[0m\u001b[0ma\u001b[0m\u001b[1;33m,\u001b[0m \u001b[0maxis\u001b[0m\u001b[1;33m,\u001b[0m \u001b[1;34m\"first argument\"\u001b[0m\u001b[1;33m)\u001b[0m\u001b[1;33m\u001b[0m\u001b[1;33m\u001b[0m\u001b[0m\n\u001b[0;32m   7705\u001b[0m     \u001b[0mnb\u001b[0m \u001b[1;33m=\u001b[0m \u001b[0m_get_len\u001b[0m\u001b[1;33m(\u001b[0m\u001b[0mb\u001b[0m\u001b[1;33m,\u001b[0m \u001b[0maxis\u001b[0m\u001b[1;33m,\u001b[0m \u001b[1;34m\"second argument\"\u001b[0m\u001b[1;33m)\u001b[0m\u001b[1;33m\u001b[0m\u001b[1;33m\u001b[0m\u001b[0m\n\u001b[0;32m   7706\u001b[0m     \u001b[1;32mif\u001b[0m \u001b[0mna\u001b[0m \u001b[1;33m!=\u001b[0m \u001b[0mnb\u001b[0m\u001b[1;33m:\u001b[0m\u001b[1;33m\u001b[0m\u001b[1;33m\u001b[0m\u001b[0m\n\u001b[1;32m-> 7707\u001b[1;33m         \u001b[1;32mraise\u001b[0m \u001b[0mValueError\u001b[0m\u001b[1;33m(\u001b[0m\u001b[1;34m'unequal length arrays'\u001b[0m\u001b[1;33m)\u001b[0m\u001b[1;33m\u001b[0m\u001b[1;33m\u001b[0m\u001b[0m\n\u001b[0m\u001b[0;32m   7708\u001b[0m \u001b[1;33m\u001b[0m\u001b[0m\n\u001b[0;32m   7709\u001b[0m     \u001b[1;32mif\u001b[0m \u001b[0mna\u001b[0m \u001b[1;33m==\u001b[0m \u001b[1;36m0\u001b[0m \u001b[1;32mor\u001b[0m \u001b[0mnb\u001b[0m \u001b[1;33m==\u001b[0m \u001b[1;36m0\u001b[0m\u001b[1;33m:\u001b[0m\u001b[1;33m\u001b[0m\u001b[1;33m\u001b[0m\u001b[0m\n\u001b[0;32m   7710\u001b[0m         \u001b[1;31m# _axis_nan_policy decorator ensures this only happens with 1d input\u001b[0m\u001b[1;33m\u001b[0m\u001b[1;33m\u001b[0m\u001b[0m\n",
      "\u001b[1;31mValueError\u001b[0m: unequal length arrays"
     ]
    }
   ],
   "source": [
    "#It works for one column but not for multiple columns\n",
    "\n",
    "\n",
    "# Decide on the test based on normality\n",
    "if p_value_first_segment > 0.05 and p_value_last_segment > 0.05:\n",
    "    # Both segments are normally distributed, perform paired t-test\n",
    "    t_stat, p_value = ttest_rel(first_segment_counts, last_segment_counts)\n",
    "    test_name = \"Paired t-test\"\n",
    "else:\n",
    "    # At least one segment is not normally distributed, perform Mann-Whitney U test\n",
    "    t_stat, p_value = mannwhitneyu(first_segment_counts, last_segment_counts)\n",
    "    test_name = \"Mann-Whitney U test\"\n",
    "\n",
    "print(f\"{test_name} results for {col}:\")\n",
    "print(f\"Test Statistic: {t_stat:.3f}\")\n",
    "print(f\"P-value: {p_value:.3f}\")\n",
    "print()  # Blank line for readability"
   ]
  },
  {
   "cell_type": "code",
   "execution_count": 189,
   "metadata": {},
   "outputs": [
    {
     "name": "stdout",
     "output_type": "stream",
     "text": [
      "Normality test results for A1_34:\n",
      "First segment p-value: 1.233e-31\n",
      "Last segment p-value: 2.262e-26\n",
      "Mann-Whitney U test results for A1_34:\n",
      "Test Statistic: 30209.500\n",
      "P-value: 0.830\n",
      "\n"
     ]
    }
   ],
   "source": [
    "import numpy as np\n",
    "from scipy.stats import ttest_rel, mannwhitneyu, shapiro\n",
    "\n",
    "# Assuming sorted_counts, sorted_bins, columns_to_process, and bin_width are already defined\n",
    "\n",
    "sorted_counts = {col: [spike_counts[col][bin_start] for bin_start in sorted_bins[col]] for col in columns_to_process}\n",
    "\n",
    "# Convert the sorted lists to NumPy arrays\n",
    "sorted_bins_np = {col: np.array(sorted_bins[col]) for col in columns_to_process}\n",
    "sorted_counts_np = {col: np.array(sorted_counts[col]) for col in columns_to_process}\n",
    "\n",
    "first_segment_duration = 300\n",
    "last_segment_duration = 200\n",
    "\n",
    "for col in columns_to_process:\n",
    "    # Calculate total duration\n",
    "    total_duration = sorted_bins_np[col][-1] - sorted_bins_np[col][0] + bin_width  # Assuming bins are in seconds\n",
    "\n",
    "    # Determine the indices for the first and last segments\n",
    "    first_segment_end_idx = np.searchsorted(sorted_bins_np[col], first_segment_duration)\n",
    "    last_segment_start_idx = np.searchsorted(sorted_bins_np[col], total_duration - last_segment_duration)\n",
    "\n",
    "    # Ensure indices are within bounds\n",
    "    if first_segment_end_idx == 0 or last_segment_start_idx >= len(sorted_counts_np[col]):\n",
    "        print(f\"Skipping column {col} due to insufficient data in segments.\")\n",
    "        continue\n",
    "\n",
    "    # Extract the spike counts for the first and last segments\n",
    "    first_segment_counts = sorted_counts_np[col][:first_segment_end_idx]\n",
    "    last_segment_counts = sorted_counts_np[col][last_segment_start_idx:]\n",
    "\n",
    "    # Ensure segments are not empty\n",
    "    if len(first_segment_counts) == 0 or len(last_segment_counts) == 0:\n",
    "        print(f\"Skipping column {col} due to empty segments.\")\n",
    "        continue\n",
    "\n",
    "    # Check normality using the Shapiro-Wilk test\n",
    "    first_segment_normality = shapiro(first_segment_counts)\n",
    "    last_segment_normality = shapiro(last_segment_counts)\n",
    "\n",
    "    print(f\"Normality test results for {col}:\")\n",
    "    print(f\"First segment p-value: {first_segment_normality.pvalue:.3e}\")\n",
    "    print(f\"Last segment p-value: {last_segment_normality.pvalue:.3e}\")\n",
    "\n",
    "    # Decide on the test based on normality\n",
    "    if first_segment_normality.pvalue > 0.05 and last_segment_normality.pvalue > 0.05:\n",
    "        # Both segments are normally distributed, perform paired t-test\n",
    "        t_stat, p_value = ttest_rel(first_segment_counts, last_segment_counts)\n",
    "        test_name = \"Paired t-test\"\n",
    "    else:\n",
    "        # At least one segment is not normally distributed, perform Mann-Whitney U test\n",
    "        t_stat, p_value = mannwhitneyu(first_segment_counts, last_segment_counts)\n",
    "        test_name = \"Mann-Whitney U test\"\n",
    "\n",
    "    print(f\"{test_name} results for {col}:\")\n",
    "    print(f\"Test Statistic: {t_stat:.3f}\")\n",
    "    print(f\"P-value: {p_value:.3f}\")\n",
    "    print()  # Blank line for readability"
   ]
  },
  {
   "cell_type": "code",
   "execution_count": 190,
   "metadata": {},
   "outputs": [
    {
     "name": "stdout",
     "output_type": "stream",
     "text": [
      "Processing column: A1_34\n",
      "Total duration for A1_34: 600.0\n",
      "First segment end index for A1_34: 300\n",
      "Last segment start index for A1_34: 400\n",
      "First segment counts for A1_34: [ 0.  0.  0.  0.  0.  0.  0.  0. 14.  2.  0.  0.  0.  5.  0.  0.  0.  0.\n",
      "  0.  0.  0.  0.  0.  0.  0.  0.  0.  0.  0.  0.  0.  0.  0.  0.  0.  0.\n",
      " 15.  2.  2.  1.  0.  4.  0.  0.  0.  0.  0.  0.  0.  0.  0.  0.  0.  0.\n",
      "  0.  0.  0.  0.  0.  0.  0.  1. 11.  2.  0.  0.  0.  0.  3.  0.  0.  0.\n",
      "  0.  0.  0.  0.  0.  0.  0.  0.  0.  0.  0.  0.  0.  0.  0.  0.  0.  0.\n",
      "  0.  8.  0.  0.  0.  0.  4.  1.  0.  0.  0.  0.  0.  0.  0.  0.  0.  0.\n",
      "  0.  0.  0.  0.  0.  0.  0.  0.  1.  0.  0.  3. 11.  0.  0.  0.  0.  1.\n",
      "  0.  0.  0.  0.  0.  0.  0.  0.  0.  0.  0.  0.  0.  0.  0.  0.  0.  0.\n",
      "  0.  0.  0. 11.  2.  0.  0.  0.  4.  1.  0.  0.  0.  0.  1.  0.  0.  0.\n",
      "  0.  0.  0.  0.  0.  0.  0.  0.  0.  0.  0.  4.  9.  0.  0.  0.  0.  5.\n",
      "  1.  0.  0.  0.  0.  0.  0.  0.  0.  0.  0.  0.  0.  0.  0.  0.  0.  0.\n",
      "  0.  0.  8.  3.  0.  2.  0.  0.  4.  1.  0.  0.  0.  0.  0.  0.  0.  0.\n",
      "  0.  0.  0.  0.  0.  0.  0.  0.  0.  0.  0.  0.  0.  1. 10.  0.  0.  0.\n",
      "  0.  2.  0.  0.  0.  0.  0.  0.  0.  0.  0.  0.  0.  0.  0.  0.  0.  0.\n",
      "  0.  0.  0. 15.  1.  0.  0.  0.  0.  4.  1.  0.  0.  0.  0.  0.  0.  0.\n",
      "  0.  0.  0.  0.  0.  0.  0.  0.  0.  0.  0.  0. 10.  2.  2.  0.  0.  0.\n",
      "  2.  1.  0.  0.  0.  0.  0.  0.  0.  0.  0.  0.]\n",
      "Last segment counts for A1_34: [ 0.  0.  0.  0.  0.  0.  0.  0.  0.  0.  0.  0.  0.  0.  0.  0.  0.  0.\n",
      "  0.  0. 11.  0.  0.  0.  0.  4.  0.  0.  0.  0.  0.  0.  0.  0.  0.  0.\n",
      "  0.  0.  0.  0.  0.  0.  0.  0.  0.  0.  0. 12.  3.  1.  1.  0.  1.  5.\n",
      "  0.  0.  0.  0.  0.  0.  0.  0.  0.  0.  0.  0.  0.  0.  0.  0.  0.  0.\n",
      "  0.  0.  0.  5.  1.  0.  0.  0.  0.  6.  0.  0.  0.  0.  0.  0.  0.  0.\n",
      "  0.  0.  0.  0.  0.  0.  0.  0.  0.  0.  0.  0.  0. 13.  2.  1.  0.  0.\n",
      "  3.  3.  0.  0.  0.  0.  0.  0.  0.  0.  0.  0.  0.  0.  0.  0.  0.  0.\n",
      "  0.  0.  0.  0.  0.  3. 12.  3.  0.  0.  0.  2.  3.  0.  0.  0.  0.  0.\n",
      "  0.  0.  0.  0.  0.  0.  0.  0.  0.  0.  0.  0.  0.  0.  0.  0.  9.  5.\n",
      "  0.  3.  0.  0.  4.  0.  0.  0.  0.  0.  0.  0.  0.  0.  0.  0.  0.  0.\n",
      "  0.  0.  0.  0.  0.  0.  0.  0.  0. 15.  0.  0.  0.  0.  3.  2.  0.  0.\n",
      "  0.  0.]\n",
      "Normality test results for A1_34:\n",
      "First segment p-value: 1.233e-31\n",
      "Last segment p-value: 2.262e-26\n",
      "Mann-Whitney U test results for A1_34:\n",
      "Test Statistic: 30209.500\n",
      "P-value: 0.830\n",
      "\n"
     ]
    }
   ],
   "source": [
    "import numpy as np\n",
    "from scipy.stats import ttest_rel, mannwhitneyu, shapiro\n",
    "\n",
    "# Assuming sorted_counts, sorted_bins, columns_to_process, and bin_width are already defined\n",
    "\n",
    "sorted_counts = {col: [spike_counts[col][bin_start] for bin_start in sorted_bins[col]] for col in columns_to_process}\n",
    "\n",
    "# Convert the sorted lists to NumPy arrays\n",
    "sorted_bins_np = {col: np.array(sorted_bins[col]) for col in columns_to_process}\n",
    "sorted_counts_np = {col: np.array(sorted_counts[col]) for col in columns_to_process}\n",
    "\n",
    "first_segment_duration = 300\n",
    "last_segment_duration = 200\n",
    "\n",
    "for col in columns_to_process:\n",
    "    print(f\"Processing column: {col}\")\n",
    "    \n",
    "    # Calculate total duration\n",
    "    total_duration = sorted_bins_np[col][-1] - sorted_bins_np[col][0] + bin_width  # Assuming bins are in seconds\n",
    "    print(f\"Total duration for {col}: {total_duration}\")\n",
    "\n",
    "    # Determine the indices for the first and last segments\n",
    "    first_segment_end_idx = np.searchsorted(sorted_bins_np[col], first_segment_duration)\n",
    "    last_segment_start_idx = np.searchsorted(sorted_bins_np[col], total_duration - last_segment_duration)\n",
    "    print(f\"First segment end index for {col}: {first_segment_end_idx}\")\n",
    "    print(f\"Last segment start index for {col}: {last_segment_start_idx}\")\n",
    "\n",
    "    # Ensure indices are within bounds\n",
    "    if first_segment_end_idx == 0 or last_segment_start_idx >= len(sorted_counts_np[col]):\n",
    "        print(f\"Skipping column {col} due to insufficient data in segments.\")\n",
    "        continue\n",
    "\n",
    "    # Extract the spike counts for the first and last segments\n",
    "    first_segment_counts = sorted_counts_np[col][:first_segment_end_idx]\n",
    "    last_segment_counts = sorted_counts_np[col][last_segment_start_idx:]\n",
    "    print(f\"First segment counts for {col}: {first_segment_counts}\")\n",
    "    print(f\"Last segment counts for {col}: {last_segment_counts}\")\n",
    "\n",
    "    # Ensure segments are not empty\n",
    "    if len(first_segment_counts) == 0 or len(last_segment_counts) == 0:\n",
    "        print(f\"Skipping column {col} due to empty segments.\")\n",
    "        continue\n",
    "\n",
    "    # Check normality using the Shapiro-Wilk test\n",
    "    first_segment_normality = shapiro(first_segment_counts)\n",
    "    last_segment_normality = shapiro(last_segment_counts)\n",
    "\n",
    "    print(f\"Normality test results for {col}:\")\n",
    "    print(f\"First segment p-value: {first_segment_normality.pvalue:.3e}\")\n",
    "    print(f\"Last segment p-value: {last_segment_normality.pvalue:.3e}\")\n",
    "\n",
    "    # Decide on the test based on normality\n",
    "    if first_segment_normality.pvalue > 0.05 and last_segment_normality.pvalue > 0.05:\n",
    "        # Both segments are normally distributed, perform paired t-test\n",
    "        t_stat, p_value = ttest_rel(first_segment_counts, last_segment_counts)\n",
    "        test_name = \"Paired t-test\"\n",
    "    else:\n",
    "        # At least one segment is not normally distributed, perform Mann-Whitney U test\n",
    "        t_stat, p_value = mannwhitneyu(first_segment_counts, last_segment_counts)\n",
    "        test_name = \"Mann-Whitney U test\"\n",
    "\n",
    "    print(f\"{test_name} results for {col}:\")\n",
    "    print(f\"Test Statistic: {t_stat:.3f}\")\n",
    "    print(f\"P-value: {p_value:.3f}\")\n",
    "    print()  # Blank line for readability"
   ]
  },
  {
   "cell_type": "code",
   "execution_count": 185,
   "metadata": {},
   "outputs": [
    {
     "name": "stdout",
     "output_type": "stream",
     "text": [
      "Statistics for A1_34 - First Segment:\n",
      "Mean Firing Rate: 0.66\n",
      "Statistics for A1_34 - Last Segment:\n",
      "Mean Firing Rate: 0.68\n",
      "Change in Firing Rate for A1_34:\n",
      "Absolute Difference (Delta): 0.020000000000000018\n",
      "Percentage Change: 3.030303030303033%\n",
      "\n"
     ]
    }
   ],
   "source": [
    "for i, channel_data in enumerate(data_array):\n",
    "    channel_name = channel_data[0]\n",
    "    first_mean_firing_rate = channel_data[1]\n",
    "    last_mean_firing_rate = channel_data[3]\n",
    "    # Output descriptive statistics for each channel (as previously printed)\n",
    "    print(f\"Statistics for {channel_name} - First Segment:\")\n",
    "    print(f\"Mean Firing Rate: {first_mean_firing_rate}\")\n",
    "    print(f\"Statistics for {channel_name} - Last Segment:\")\n",
    "    print(f\"Mean Firing Rate: {last_mean_firing_rate}\")\n",
    "    \n",
    "    # Compute the absolute difference (delta) and percentage change\n",
    "    delta = last_mean_firing_rate - first_mean_firing_rate\n",
    "    percentage_change = (delta / first_mean_firing_rate * 100) if first_mean_firing_rate != 0 else float('inf')\n",
    "\n",
    "    print(f\"Change in Firing Rate for {channel_name}:\")\n",
    "    print(f\"Absolute Difference (Delta): {delta}\")\n",
    "    print(f\"Percentage Change: {percentage_change}%\")\n",
    "    print()  # Blank line for readability"
   ]
  },
  {
   "cell_type": "code",
   "execution_count": 186,
   "metadata": {},
   "outputs": [
    {
     "data": {
      "image/png": "[encoded data removed]",
      "text/plain": [
       "<Figure size 800x800 with 2 Axes>"
      ]
     },
     "metadata": {},
     "output_type": "display_data"
    }
   ],
   "source": [
    "# Calculate the difference between the first and last segments\n",
    "difference_array = np.array(first_segment_means_array) - np.array(last_segment_means_array)\n",
    "\n",
    "# Determine the size of the reshaped array\n",
    "num_columns = len(columns_to_process)\n",
    "side_length = int(np.ceil(np.sqrt(num_columns)))\n",
    "\n",
    "# Pad the arrays to make them square if necessary\n",
    "pad_size = side_length**2 - num_columns\n",
    "difference_array_padded = np.pad(difference_array, (0, pad_size), mode='constant', constant_values=np.nan)\n",
    "columns_array_padded = np.pad(np.array(columns_to_process), (0, pad_size), mode='constant', constant_values='')\n",
    "\n",
    "# Reshape the arrays to the determined size\n",
    "difference_matrix = difference_array_padded.reshape(side_length, side_length)\n",
    "columns_matrix = columns_array_padded.reshape(side_length, side_length)\n",
    "\n",
    "# Transpose the matrices to count upwards\n",
    "difference_matrix = difference_matrix.T\n",
    "columns_matrix = columns_matrix.T\n",
    "\n",
    "# Flip the matrices vertically to start from the bottom-left corner\n",
    "difference_matrix = np.flipud(difference_matrix)\n",
    "columns_matrix = np.flipud(columns_matrix)\n",
    "\n",
    "# Create a custom annotation array\n",
    "annotation_array = np.array([[f'{columns_matrix[i, j]}\\n{difference_matrix[i, j]:.1f}' if columns_matrix[i, j] else '' for j in range(side_length)] for i in range(side_length)])\n",
    "\n",
    "# Create adaptable title based on the durations\n",
    "difference_plot_title = f'Difference in Mean Firing Rate Between First {first_segment_duration} Seconds and Last {last_segment_duration} Seconds'\n",
    "\n",
    "# Create a heatmap to visualize the differences with custom annotations\n",
    "plt.figure(figsize=(8, 8))\n",
    "sns.heatmap(difference_matrix, annot=annotation_array, fmt='', cmap='coolwarm', cbar_kws={'label': 'Difference in Mean Firing Rate'}, xticklabels=False, yticklabels=False)\n",
    "plt.title(difference_plot_title)\n",
    "plt.xlabel('')\n",
    "plt.ylabel('')\n",
    "plt.show()"
   ]
  }
 ],
 "metadata": {
  "kernelspec": {
   "display_name": "base",
   "language": "python",
   "name": "python3"
  },
  "language_info": {
   "codemirror_mode": {
    "name": "ipython",
    "version": 3
   },
   "file_extension": ".py",
   "mimetype": "text/x-python",
   "name": "python",
   "nbconvert_exporter": "python",
   "pygments_lexer": "ipython3",
   "version": "3.12.4"
  }
 },
 "nbformat": 4,
 "nbformat_minor": 2
}
